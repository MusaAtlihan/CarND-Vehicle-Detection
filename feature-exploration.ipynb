{
 "cells": [
  {
   "cell_type": "markdown",
   "metadata": {},
   "source": [
    "# Feature Exploration\n",
    "\n",
    "In this notebook, [prevously prepared](./feature-extraction.ipynb) small datasets with different features will be explored for the accuracy."
   ]
  },
  {
   "cell_type": "code",
   "execution_count": 1,
   "metadata": {},
   "outputs": [],
   "source": [
    "import pickle\n",
    "import numpy as np\n",
    "import timeit\n",
    "import glob\n",
    "import os\n",
    "import seaborn as sns\n",
    "import matplotlib.pyplot as plt\n",
    "from sklearn import svm\n",
    "from sklearn.model_selection import GridSearchCV\n",
    "from sklearn.model_selection import train_test_split\n",
    "from sklearn.preprocessing import StandardScaler\n",
    "from sklearn.metrics import accuracy_score"
   ]
  },
  {
   "cell_type": "markdown",
   "metadata": {},
   "source": [
    "## Classifier"
   ]
  },
  {
   "cell_type": "code",
   "execution_count": 2,
   "metadata": {
    "collapsed": true
   },
   "outputs": [],
   "source": [
    "# SVM\n",
    "# support vector regressor instance\n",
    "svr = svm.SVC(kernel='rbf')\n",
    "# parameters for gridsearch\n",
    "parameters = {'C':[0.01, 0.1, 1, 10], 'gamma':[0.01, 0.1, 1, 10, 'auto']}\n",
    "# the classifier\n",
    "clf = GridSearchCV(svr, parameters)"
   ]
  },
  {
   "cell_type": "markdown",
   "metadata": {},
   "source": [
    "## Explore"
   ]
  },
  {
   "cell_type": "code",
   "execution_count": 3,
   "metadata": {
    "collapsed": true
   },
   "outputs": [],
   "source": [
    "# a helper function\n",
    "def explore_datasets(dataset_types):\n",
    "    for dataset_paths in dataset_types:\n",
    "        for dataset_path in dataset_paths:\n",
    "            with open(dataset_path, mode='rb') as f:\n",
    "                dataset = pickle.load(f)\n",
    "                # load features and labels\n",
    "                X = dataset['features']\n",
    "                y = dataset['labels']\n",
    "                # shuffle and split dataset (for shuffle=False sklearn should be v0.19)\n",
    "                X_train, X_test, y_train, y_test =\\\n",
    "                    train_test_split(X, y, test_size=0.33, shuffle=False)\n",
    "                # normalize features\n",
    "                X_scaler = StandardScaler().fit(X_train)\n",
    "                scaled_X_train = X_scaler.transform(X_train)\n",
    "                # Train the classifier\n",
    "                start_time = timeit.default_timer()\n",
    "                print(\n",
    "                    'fit rbf kernel for dataset: '\n",
    "                    + dataset_path.split('/')[-2]\n",
    "                    + '/'\n",
    "                    + dataset_path.split('/')[-1])\n",
    "                print('Number of features: ' + str(X.shape[1]))\n",
    "                print('Number of examples: ' + str(X.shape[0]))\n",
    "                clf.fit(scaled_X_train, y_train)\n",
    "                print('Best params: ' + str(clf.best_params_))\n",
    "                end_time = timeit.default_timer()\n",
    "                print('Run time: %.4f minutes' %((end_time-start_time)/60))\n",
    "                # evaluate\n",
    "                # normalize test features\n",
    "                scaled_X_test = X_scaler.transform(X_test)\n",
    "                # predict\n",
    "                y_pred = clf.predict(scaled_X_test)\n",
    "                acc = accuracy_score(y_test, y_pred)\n",
    "                # or just use clf.score(scaled_X_test, y_test)\n",
    "                print('Accuracy: ' + str(acc))\n",
    "                print('')"
   ]
  },
  {
   "cell_type": "code",
   "execution_count": 3,
   "metadata": {
    "scrolled": false
   },
   "outputs": [
    {
     "name": "stdout",
     "output_type": "stream",
     "text": [
      "fit rbf kernel for dataset: gray-tiny/dataset-pix-8-8-cell-1-1-histeq-1.pkl\n",
      "Best params: {'C': 10, 'gamma': 'auto'}\n",
      "Run time: 5.0532 minutes\n",
      "Accuracy: 0.950757575758\n",
      "\n",
      "fit rbf kernel for dataset: gray-tiny/dataset-pix-8-8-cell-1-1-histeq-0.pkl\n",
      "Best params: {'C': 10, 'gamma': 'auto'}\n",
      "Run time: 4.6266 minutes\n",
      "Accuracy: 0.926515151515\n",
      "\n",
      "fit rbf kernel for dataset: gray-tiny/dataset-pix-8-8-cell-2-2-histeq-1.pkl\n",
      "Best params: {'C': 10, 'gamma': 'auto'}\n",
      "Run time: 13.1627 minutes\n",
      "Accuracy: 0.977272727273\n",
      "\n",
      "fit rbf kernel for dataset: gray-tiny/dataset-pix-8-8-cell-2-2-histeq-0.pkl\n",
      "Best params: {'C': 10, 'gamma': 'auto'}\n",
      "Run time: 12.2819 minutes\n",
      "Accuracy: 0.951515151515\n",
      "\n",
      "fit rbf kernel for dataset: gray-tiny/dataset-pix-16-16-cell-1-1-histeq-1.pkl\n",
      "Best params: {'C': 10, 'gamma': 'auto'}\n",
      "Run time: 1.4997 minutes\n",
      "Accuracy: 0.968181818182\n",
      "\n",
      "fit rbf kernel for dataset: gray-tiny/dataset-pix-16-16-cell-1-1-histeq-0.pkl\n",
      "Best params: {'C': 10, 'gamma': 0.01}\n",
      "Run time: 1.3325 minutes\n",
      "Accuracy: 0.956060606061\n",
      "\n",
      "fit rbf kernel for dataset: gray-tiny/dataset-pix-16-16-cell-2-2-histeq-1.pkl\n",
      "Best params: {'C': 10, 'gamma': 'auto'}\n",
      "Run time: 2.7043 minutes\n",
      "Accuracy: 0.984090909091\n",
      "\n",
      "fit rbf kernel for dataset: gray-tiny/dataset-pix-16-16-cell-2-2-histeq-0.pkl\n",
      "Best params: {'C': 10, 'gamma': 0.01}\n",
      "Run time: 2.4553 minutes\n",
      "Accuracy: 0.975757575758\n",
      "\n",
      "fit rbf kernel for dataset: rgb-tiny/dataset-pix-8-8-cell-1-1-histeq-1.pkl\n",
      "Best params: {'C': 10, 'gamma': 'auto'}\n",
      "Run time: 13.4996 minutes\n",
      "Accuracy: 0.961363636364\n",
      "\n",
      "fit rbf kernel for dataset: rgb-tiny/dataset-pix-8-8-cell-1-1-histeq-0.pkl\n",
      "Best params: {'C': 10, 'gamma': 'auto'}\n",
      "Run time: 12.6855 minutes\n",
      "Accuracy: 0.934848484848\n",
      "\n",
      "fit rbf kernel for dataset: rgb-tiny/dataset-pix-8-8-cell-2-2-histeq-1.pkl\n",
      "Best params: {'C': 10, 'gamma': 'auto'}\n",
      "Run time: 38.0195 minutes\n",
      "Accuracy: 0.982575757576\n",
      "\n",
      "fit rbf kernel for dataset: rgb-tiny/dataset-pix-8-8-cell-2-2-histeq-0.pkl\n",
      "Best params: {'C': 10, 'gamma': 'auto'}\n",
      "Run time: 36.1906 minutes\n",
      "Accuracy: 0.962878787879\n",
      "\n",
      "fit rbf kernel for dataset: rgb-tiny/dataset-pix-16-16-cell-1-1-histeq-1.pkl\n",
      "Best params: {'C': 10, 'gamma': 'auto'}\n",
      "Run time: 3.6819 minutes\n",
      "Accuracy: 0.971212121212\n",
      "\n",
      "fit rbf kernel for dataset: rgb-tiny/dataset-pix-16-16-cell-1-1-histeq-0.pkl\n",
      "Best params: {'C': 10, 'gamma': 'auto'}\n",
      "Run time: 3.3020 minutes\n",
      "Accuracy: 0.954545454545\n",
      "\n",
      "fit rbf kernel for dataset: rgb-tiny/dataset-pix-16-16-cell-2-2-histeq-1.pkl\n",
      "Best params: {'C': 10, 'gamma': 'auto'}\n",
      "Run time: 7.5612 minutes\n",
      "Accuracy: 0.988636363636\n",
      "\n",
      "fit rbf kernel for dataset: rgb-tiny/dataset-pix-16-16-cell-2-2-histeq-0.pkl\n",
      "Best params: {'C': 10, 'gamma': 'auto'}\n",
      "Run time: 7.0740 minutes\n",
      "Accuracy: 0.977272727273\n",
      "\n",
      "fit rbf kernel for dataset: hsv-tiny/dataset-pix-8-8-cell-1-1-histeq-1.pkl\n",
      "Best params: {'C': 10, 'gamma': 'auto'}\n",
      "Run time: 13.7460 minutes\n",
      "Accuracy: 0.94696969697\n",
      "\n",
      "fit rbf kernel for dataset: hsv-tiny/dataset-pix-8-8-cell-1-1-histeq-0.pkl\n",
      "Best params: {'C': 10, 'gamma': 'auto'}\n",
      "Run time: 12.5562 minutes\n",
      "Accuracy: 0.961363636364\n",
      "\n",
      "fit rbf kernel for dataset: hsv-tiny/dataset-pix-8-8-cell-2-2-histeq-1.pkl\n",
      "Best params: {'C': 10, 'gamma': 'auto'}\n",
      "Run time: 39.2304 minutes\n",
      "Accuracy: 0.965909090909\n",
      "\n",
      "fit rbf kernel for dataset: hsv-tiny/dataset-pix-8-8-cell-2-2-histeq-0.pkl\n",
      "Best params: {'C': 10, 'gamma': 'auto'}\n",
      "Run time: 36.5882 minutes\n",
      "Accuracy: 0.97196969697\n",
      "\n",
      "fit rbf kernel for dataset: hsv-tiny/dataset-pix-16-16-cell-1-1-histeq-1.pkl\n",
      "Best params: {'C': 10, 'gamma': 'auto'}\n",
      "Run time: 3.7929 minutes\n",
      "Accuracy: 0.967424242424\n",
      "\n",
      "fit rbf kernel for dataset: hsv-tiny/dataset-pix-16-16-cell-1-1-histeq-0.pkl\n",
      "Best params: {'C': 10, 'gamma': 'auto'}\n",
      "Run time: 3.3034 minutes\n",
      "Accuracy: 0.965909090909\n",
      "\n",
      "fit rbf kernel for dataset: hsv-tiny/dataset-pix-16-16-cell-2-2-histeq-1.pkl\n",
      "Best params: {'C': 10, 'gamma': 'auto'}\n",
      "Run time: 7.8366 minutes\n",
      "Accuracy: 0.975757575758\n",
      "\n",
      "fit rbf kernel for dataset: hsv-tiny/dataset-pix-16-16-cell-2-2-histeq-0.pkl\n",
      "Best params: {'C': 10, 'gamma': 'auto'}\n",
      "Run time: 7.0963 minutes\n",
      "Accuracy: 0.980303030303\n",
      "\n"
     ]
    }
   ],
   "source": [
    "# Explore Datasets\n",
    "grays = glob.glob('./datasets/gray-tiny/*.pkl')\n",
    "grays.sort(key=os.path.getmtime)\n",
    "rgbs = glob.glob('./datasets/rgb-tiny/*.pkl')\n",
    "rgbs.sort(key=os.path.getmtime)\n",
    "hsvs = glob.glob('./datasets/hsv-tiny/*.pkl')\n",
    "hsvs.sort(key=os.path.getmtime)\n",
    "\n",
    "dataset_types = [grays, rgbs, hsvs]\n",
    "\n",
    "explore_datasets(dataset_types)"
   ]
  },
  {
   "cell_type": "markdown",
   "metadata": {},
   "source": [
    "### Further exploration"
   ]
  },
  {
   "cell_type": "code",
   "execution_count": 15,
   "metadata": {
    "scrolled": false
   },
   "outputs": [
    {
     "name": "stdout",
     "output_type": "stream",
     "text": [
      "fit rbf kernel for dataset: gray-tiny/dataset-pix-16-16-cell-3-3-histeq-1.pkl\n",
      "Number of features: 324\n",
      "Number of examples: 4000\n",
      "Best params: {'C': 1, 'gamma': 'auto'}\n",
      "Run time: 2.2432 minutes\n",
      "Accuracy: 0.977272727273\n",
      "\n",
      "fit rbf kernel for dataset: gray-tiny/dataset-pix-16-16-cell-3-3-histeq-0.pkl\n",
      "Number of features: 324\n",
      "Number of examples: 4000\n",
      "Best params: {'C': 10, 'gamma': 0.01}\n",
      "Run time: 2.0949 minutes\n",
      "Accuracy: 0.980303030303\n",
      "\n",
      "fit rbf kernel for dataset: gray-tiny/dataset-pix-16-16-cell-4-4-histeq-1.pkl\n",
      "Number of features: 144\n",
      "Number of examples: 4000\n",
      "Best params: {'C': 10, 'gamma': 'auto'}\n",
      "Run time: 1.0466 minutes\n",
      "Accuracy: 0.982575757576\n",
      "\n",
      "fit rbf kernel for dataset: gray-tiny/dataset-pix-16-16-cell-4-4-histeq-0.pkl\n",
      "Number of features: 144\n",
      "Number of examples: 4000\n",
      "Best params: {'C': 10, 'gamma': 0.01}\n",
      "Run time: 0.9925 minutes\n",
      "Accuracy: 0.983333333333\n",
      "\n",
      "fit rbf kernel for dataset: rgb-tiny/dataset-pix-16-16-cell-3-3-histeq-1.pkl\n",
      "Number of features: 972\n",
      "Number of examples: 4000\n",
      "Best params: {'C': 10, 'gamma': 'auto'}\n",
      "Run time: 7.0697 minutes\n",
      "Accuracy: 0.986363636364\n",
      "\n",
      "fit rbf kernel for dataset: rgb-tiny/dataset-pix-16-16-cell-3-3-histeq-0.pkl\n",
      "Number of features: 972\n",
      "Number of examples: 4000\n",
      "Best params: {'C': 10, 'gamma': 'auto'}\n",
      "Run time: 6.6189 minutes\n",
      "Accuracy: 0.977272727273\n",
      "\n",
      "fit rbf kernel for dataset: rgb-tiny/dataset-pix-16-16-cell-4-4-histeq-1.pkl\n",
      "Number of features: 432\n",
      "Number of examples: 4000\n",
      "Best params: {'C': 10, 'gamma': 'auto'}\n",
      "Run time: 3.1118 minutes\n",
      "Accuracy: 0.984090909091\n",
      "\n",
      "fit rbf kernel for dataset: rgb-tiny/dataset-pix-16-16-cell-4-4-histeq-0.pkl\n",
      "Number of features: 432\n",
      "Number of examples: 4000\n",
      "Best params: {'C': 10, 'gamma': 'auto'}\n",
      "Run time: 2.9138 minutes\n",
      "Accuracy: 0.982575757576\n",
      "\n"
     ]
    }
   ],
   "source": [
    "# explore further\n",
    "grays = glob.glob('./datasets/gray-tiny/*.pkl')\n",
    "grays.sort(key=os.path.getmtime)\n",
    "rgbs = glob.glob('./datasets/rgb-tiny/*.pkl')\n",
    "rgbs.sort(key=os.path.getmtime)\n",
    "\n",
    "grays_extras = grays[-4:]\n",
    "rgbs_extras = rgbs[-4:]\n",
    "\n",
    "dataset_types = [grays_extras, rgbs_extras]\n",
    "\n",
    "explore_datasets(dataset_types)"
   ]
  },
  {
   "cell_type": "markdown",
   "metadata": {},
   "source": [
    "Finally, train and evaluate best datasets with all the examples."
   ]
  },
  {
   "cell_type": "code",
   "execution_count": 4,
   "metadata": {},
   "outputs": [
    {
     "name": "stdout",
     "output_type": "stream",
     "text": [
      "fit rbf kernel for dataset: gray/dataset-pix-16-16-cell-2-2-histeq-1.pkl\n",
      "Number of features: 324\n",
      "Number of examples: 17760\n",
      "Best params: {'C': 10, 'gamma': 'auto'}\n",
      "Run time: 56.1569 minutes\n",
      "Accuracy: 0.988739123017\n",
      "\n",
      "fit rbf kernel for dataset: gray/dataset-pix-16-16-cell-2-2-histeq-0.pkl\n",
      "Number of features: 324\n",
      "Number of examples: 17760\n",
      "Best params: {'C': 10, 'gamma': 0.01}\n",
      "Run time: 49.2384 minutes\n",
      "Accuracy: 0.977307626685\n",
      "\n",
      "fit rbf kernel for dataset: rgb/dataset-pix-16-16-cell-2-2-histeq-1.pkl\n",
      "Number of features: 972\n",
      "Number of examples: 17760\n",
      "Best params: {'C': 10, 'gamma': 'auto'}\n",
      "Run time: 147.5464 minutes\n",
      "Accuracy: 0.991469032588\n",
      "\n",
      "fit rbf kernel for dataset: rgb/dataset-pix-16-16-cell-2-2-histeq-0.pkl\n",
      "Number of features: 972\n",
      "Number of examples: 17760\n",
      "Best params: {'C': 10, 'gamma': 'auto'}\n",
      "Run time: 132.6345 minutes\n",
      "Accuracy: 0.980037536257\n",
      "\n"
     ]
    }
   ],
   "source": [
    "# explore extra\n",
    "grays = glob.glob('./datasets/gray/*.pkl')\n",
    "grays.sort(key=os.path.getmtime)\n",
    "rgbs = glob.glob('./datasets/rgb/*.pkl')\n",
    "rgbs.sort(key=os.path.getmtime)\n",
    "\n",
    "dataset_types = [grays, rgbs]\n",
    "\n",
    "explore_datasets(dataset_types)"
   ]
  },
  {
   "cell_type": "code",
   "execution_count": 2,
   "metadata": {},
   "outputs": [
    {
     "data": {
      "image/png": "[encoded data removed]",
      "text/plain": [
       "<matplotlib.figure.Figure at 0x7f0f424ecac8>"
      ]
     },
     "metadata": {},
     "output_type": "display_data"
    }
   ],
   "source": [
    "datasets = ['dataset 1', 'dataset 2', 'dataset 3', 'dataset 4']\n",
    "\n",
    "y = [0.989, 0.977, 0.991, 0.980]\n",
    "\n",
    "plt.figure(figsize=(12,4))\n",
    "sns.barplot(x=datasets, y=y)\n",
    "plt.xlabel('Dataset')\n",
    "plt.ylabel('Accuracy')\n",
    "plt.ylim(0.97, 1.00)\n",
    "plt.show()\n",
    "plt.close()"
   ]
  },
  {
   "cell_type": "markdown",
   "metadata": {},
   "source": [
    "---"
   ]
  }
 ],
 "metadata": {
  "kernelspec": {
   "display_name": "Python 3",
   "language": "python",
   "name": "python3"
  },
  "language_info": {
   "codemirror_mode": {
    "name": "ipython",
    "version": 3
   },
   "file_extension": ".py",
   "mimetype": "text/x-python",
   "name": "python",
   "nbconvert_exporter": "python",
   "pygments_lexer": "ipython3",
   "version": "3.6.1"
  }
 },
 "nbformat": 4,
 "nbformat_minor": 2
}
