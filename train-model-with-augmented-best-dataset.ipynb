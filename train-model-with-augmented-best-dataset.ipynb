{
 "cells": [
  {
   "cell_type": "markdown",
   "metadata": {},
   "source": [
    "# Train the Model with the Augmented Best Dataset"
   ]
  },
  {
   "cell_type": "code",
   "execution_count": 1,
   "metadata": {
    "collapsed": true
   },
   "outputs": [],
   "source": [
    "import pickle\n",
    "import numpy as np\n",
    "import timeit\n",
    "import os\n",
    "from sklearn import svm\n",
    "from sklearn.preprocessing import StandardScaler"
   ]
  },
  {
   "cell_type": "markdown",
   "metadata": {},
   "source": [
    "## Classifier"
   ]
  },
  {
   "cell_type": "code",
   "execution_count": 2,
   "metadata": {
    "collapsed": true
   },
   "outputs": [],
   "source": [
    "# RGF SVM\n",
    "# classifier instance with best parameters\n",
    "clf = svm.SVC(C=10, kernel='rbf', gamma='auto')"
   ]
  },
  {
   "cell_type": "markdown",
   "metadata": {},
   "source": [
    "## Train and save"
   ]
  },
  {
   "cell_type": "code",
   "execution_count": 3,
   "metadata": {},
   "outputs": [
    {
     "name": "stdout",
     "output_type": "stream",
     "text": [
      "Number of features: 972\n",
      "Number of examples: 17863\n",
      "Run time: 0.5910 minutes\n",
      "model and scaler saved.\n"
     ]
    }
   ],
   "source": [
    "dataset_path =\\\n",
    "    './datasets/rgb-augmented-false-positives/dataset-pix-16-16-cell-2-2-histeq-1.pkl'\n",
    "\n",
    "with open(dataset_path, mode='rb') as f:\n",
    "    dataset = pickle.load(f)\n",
    "    # load features and labels\n",
    "    X = dataset['features']\n",
    "    y = dataset['labels']\n",
    "    print('Number of features: ' + str(X.shape[1]))\n",
    "    print('Number of examples: ' + str(X.shape[0]))\n",
    "    # normalize features\n",
    "    X_scaler = StandardScaler().fit(X)\n",
    "    scaled_X = X_scaler.transform(X)\n",
    "    # Train the classifier\n",
    "    start_time = timeit.default_timer()\n",
    "    clf.fit(scaled_X, y)\n",
    "    end_time = timeit.default_timer()\n",
    "    print('Run time: %.4f minutes' %((end_time-start_time)/60))\n",
    "    # save classifier\n",
    "    save_path =\\\n",
    "        './clfs/clf-augmented-c-10-kernel-rbf-gamma-auto-pix-16-16-cell-2-2-histeq-1.pkl'\n",
    "    with open(save_path, mode='wb') as ff:\n",
    "        pickle.dump(clf, ff)\n",
    "    scaler_save_path =\\\n",
    "        './datasets/rgb/X-scaler-augmented-dataset-pix-16-16-cell-2-2-histeq-1.pkl'\n",
    "    with open(scaler_save_path, mode='wb') as ff:\n",
    "        pickle.dump(X_scaler, ff)\n",
    "    print('model and scaler saved.')"
   ]
  },
  {
   "cell_type": "markdown",
   "metadata": {},
   "source": [
    "---"
   ]
  }
 ],
 "metadata": {
  "kernelspec": {
   "display_name": "Python 3",
   "language": "python",
   "name": "python3"
  },
  "language_info": {
   "codemirror_mode": {
    "name": "ipython",
    "version": 3
   },
   "file_extension": ".py",
   "mimetype": "text/x-python",
   "name": "python",
   "nbconvert_exporter": "python",
   "pygments_lexer": "ipython3",
   "version": "3.6.2"
  }
 },
 "nbformat": 4,
 "nbformat_minor": 2
}
